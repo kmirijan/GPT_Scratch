{
 "cells": [
  {
   "cell_type": "code",
   "execution_count": 4,
   "metadata": {},
   "outputs": [],
   "source": [
    "import math\n",
    "import numpy as np\n",
    "import matplotlib.pyplot as plt\n",
    "%matplotlib inline"
   ]
  },
  {
   "cell_type": "code",
   "execution_count": 5,
   "metadata": {},
   "outputs": [],
   "source": [
    "def f(x):\n",
    "    return 3*x**2 - 4*x +5"
   ]
  },
  {
   "cell_type": "code",
   "execution_count": 6,
   "metadata": {},
   "outputs": [
    {
     "data": {
      "text/plain": [
       "20.0"
      ]
     },
     "execution_count": 6,
     "metadata": {},
     "output_type": "execute_result"
    }
   ],
   "source": [
    "f(3.0)"
   ]
  },
  {
   "cell_type": "code",
   "execution_count": 7,
   "metadata": {},
   "outputs": [
    {
     "data": {
      "text/plain": [
       "array([-5.  , -4.75, -4.5 , -4.25, -4.  , -3.75, -3.5 , -3.25, -3.  ,\n",
       "       -2.75, -2.5 , -2.25, -2.  , -1.75, -1.5 , -1.25, -1.  , -0.75,\n",
       "       -0.5 , -0.25,  0.  ,  0.25,  0.5 ,  0.75,  1.  ,  1.25,  1.5 ,\n",
       "        1.75,  2.  ,  2.25,  2.5 ,  2.75,  3.  ,  3.25,  3.5 ,  3.75,\n",
       "        4.  ,  4.25,  4.5 ,  4.75])"
      ]
     },
     "execution_count": 7,
     "metadata": {},
     "output_type": "execute_result"
    }
   ],
   "source": [
    "xs = np.arange(-5,5,0.25)\n",
    "xs"
   ]
  },
  {
   "cell_type": "code",
   "execution_count": 8,
   "metadata": {},
   "outputs": [
    {
     "data": {
      "text/plain": [
       "array([100.    ,  91.6875,  83.75  ,  76.1875,  69.    ,  62.1875,\n",
       "        55.75  ,  49.6875,  44.    ,  38.6875,  33.75  ,  29.1875,\n",
       "        25.    ,  21.1875,  17.75  ,  14.6875,  12.    ,   9.6875,\n",
       "         7.75  ,   6.1875,   5.    ,   4.1875,   3.75  ,   3.6875,\n",
       "         4.    ,   4.6875,   5.75  ,   7.1875,   9.    ,  11.1875,\n",
       "        13.75  ,  16.6875,  20.    ,  23.6875,  27.75  ,  32.1875,\n",
       "        37.    ,  42.1875,  47.75  ,  53.6875])"
      ]
     },
     "execution_count": 8,
     "metadata": {},
     "output_type": "execute_result"
    }
   ],
   "source": [
    "ys = f(xs)\n",
    "ys"
   ]
  },
  {
   "cell_type": "code",
   "execution_count": 11,
   "metadata": {},
   "outputs": [
    {
     "data": {
      "image/png": "[encoded data removed]",
      "text/plain": [
       "<Figure size 432x288 with 1 Axes>"
      ]
     },
     "metadata": {
      "needs_background": "light"
     },
     "output_type": "display_data"
    }
   ],
   "source": [
    "plt.plot(xs, ys);"
   ]
  },
  {
   "cell_type": "code",
   "execution_count": 20,
   "metadata": {},
   "outputs": [
    {
     "data": {
      "text/plain": [
       "2.9753977059954195e-07"
      ]
     },
     "execution_count": 20,
     "metadata": {},
     "output_type": "execute_result"
    }
   ],
   "source": [
    "h = 0.0000001\n",
    "x = 2/3\n",
    "(f(x+h) - f(x))/h"
   ]
  },
  {
   "cell_type": "code",
   "execution_count": 22,
   "metadata": {},
   "outputs": [
    {
     "name": "stdout",
     "output_type": "stream",
     "text": [
      "4.0\n"
     ]
    }
   ],
   "source": [
    "# More complex\n",
    "a = 2.0\n",
    "b = -3.0\n",
    "c = 10.0\n",
    "d = a*b + c\n",
    "print(d)"
   ]
  },
  {
   "cell_type": "code",
   "execution_count": 25,
   "metadata": {},
   "outputs": [
    {
     "name": "stdout",
     "output_type": "stream",
     "text": [
      "d1 4.0\n",
      "d2 4.0001\n",
      "slope 0.9999999999976694\n"
     ]
    }
   ],
   "source": [
    "h = 0.0001\n",
    "\n",
    "#inputs\n",
    "a = 2.0\n",
    "b = -3.0\n",
    "c = 10.0\n",
    "\n",
    "d1 = a*b + c\n",
    "c += h\n",
    "d2 = a*b + c\n",
    "\n",
    "print('d1', d1)\n",
    "print('d2', d2)\n",
    "print('slope', (d2-d1)/h)"
   ]
  },
  {
   "cell_type": "code",
   "execution_count": 53,
   "metadata": {},
   "outputs": [],
   "source": [
    "class Value:\n",
    "    def __init__(self,data, _children=(), _op='', label='') -> None:\n",
    "        self.data = data\n",
    "        self._prev = set(_children)\n",
    "        self._op = _op\n",
    "        self.label = label\n",
    "    \n",
    "    def __repr__(self) -> str:\n",
    "        return f\"Value(data={self.data})\"\n",
    "    \n",
    "    def __add__(self, other):\n",
    "        out = Value(self.data + other.data, (self, other), '+')\n",
    "        return out\n",
    "    \n",
    "    def __mul__(self, other):\n",
    "        out = Value(self.data * other.data, (self, other), '*')\n",
    "        return out\n",
    "\n",
    "a = Value(2.0, label='a')\n",
    "b = Value(-3.0, label='b')\n",
    "c = Value(10.0, label='c')\n",
    "e = a*b; e.label='e'\n",
    "d = e+c; d.label='d'\n",
    "f = Value(-2.0, label='f')\n",
    "L = d*f; L.label='L'\n",
    "# print(d)\n",
    "# print(d._prev)\n",
    "# print(d._op)"
   ]
  },
  {
   "cell_type": "code",
   "execution_count": 54,
   "metadata": {},
   "outputs": [],
   "source": [
    "#Expression graph visualization\n",
    "from graphviz import Digraph\n",
    "\n",
    "def trace(root):\n",
    "    # Builds a set of all nodes and edges in a graph\n",
    "    nodes, edges = set(), set()\n",
    "    def build(v):\n",
    "        if v not in nodes:\n",
    "            nodes.add(v)\n",
    "        for child in v._prev:\n",
    "            edges.add((child, v))\n",
    "            build(child)\n",
    "    build(root)\n",
    "    return nodes, edges\n",
    "\n",
    "def draw_dot(root):\n",
    "    dot = Digraph(format='svg', graph_attr={'rankdir': 'LR'}) # Left to Right graph\n",
    "\n",
    "    nodes, edges = trace(root)\n",
    "    for n in nodes:\n",
    "        uid = str(id(n))\n",
    "        # For any value in the graph create a recyangular record node for it\n",
    "        dot.node(name=uid, label=\"{%s | data %.4f}\" % (n.label, n.data,), shape='record')\n",
    "        if n._op:\n",
    "            # if this value is a result of some operation, create an op node for it\n",
    "            dot.node(name= uid + n._op, label = n._op)\n",
    "            # And connect this node to it\n",
    "            dot.edge(uid + n._op, uid)\n",
    "    \n",
    "    for n1,n2 in edges:\n",
    "        # Connect n1 to the op node of n2\n",
    "        dot.edge(str(id(n1)), str(id(n2)) + n2._op)\n",
    "\n",
    "    return dot"
   ]
  },
  {
   "cell_type": "code",
   "execution_count": 55,
   "metadata": {},
   "outputs": [
    {
     "data": {
      "image/svg+xml": [
       "<?xml version=\"1.0\" encoding=\"UTF-8\" standalone=\"no\"?>\n",
       "<!DOCTYPE svg PUBLIC \"-//W3C//DTD SVG 1.1//EN\"\n",
       " \"http://www.w3.org/Graphics/SVG/1.1/DTD/svg11.dtd\">\n",
       "<!-- Generated by graphviz version 8.0.2 (20230410.1723)\n",
       " -->\n",
       "<!-- Pages: 1 -->\n",
       "<svg width=\"825pt\" height=\"128pt\"\n",
       " viewBox=\"0.00 0.00 825.00 128.00\" xmlns=\"http://www.w3.org/2000/svg\" xmlns:xlink=\"http://www.w3.org/1999/xlink\">\n",
       "<g id=\"graph0\" class=\"graph\" transform=\"scale(1 1) rotate(0) translate(4 124)\">\n",
       "<polygon fill=\"white\" stroke=\"none\" points=\"-4,4 -4,-124 821,-124 821,4 -4,4\"/>\n",
       "<!-- 2697851140608 -->\n",
       "<g id=\"node1\" class=\"node\">\n",
       "<title>2697851140608</title>\n",
       "<polygon fill=\"none\" stroke=\"black\" points=\"706,-54.5 706,-90.5 817,-90.5 817,-54.5 706,-54.5\"/>\n",
       "<text text-anchor=\"middle\" x=\"718.5\" y=\"-68.8\" font-family=\"Times New Roman,serif\" font-size=\"14.00\">L</text>\n",
       "<polyline fill=\"none\" stroke=\"black\" points=\"731,-54.5 731,-90.5\"/>\n",
       "<text text-anchor=\"middle\" x=\"774\" y=\"-68.8\" font-family=\"Times New Roman,serif\" font-size=\"14.00\">data &#45;8.0000</text>\n",
       "</g>\n",
       "<!-- 2697851140608* -->\n",
       "<g id=\"node2\" class=\"node\">\n",
       "<title>2697851140608*</title>\n",
       "<ellipse fill=\"none\" stroke=\"black\" cx=\"643\" cy=\"-72.5\" rx=\"27\" ry=\"18\"/>\n",
       "<text text-anchor=\"middle\" x=\"643\" y=\"-68.8\" font-family=\"Times New Roman,serif\" font-size=\"14.00\">*</text>\n",
       "</g>\n",
       "<!-- 2697851140608*&#45;&gt;2697851140608 -->\n",
       "<g id=\"edge1\" class=\"edge\">\n",
       "<title>2697851140608*&#45;&gt;2697851140608</title>\n",
       "<path fill=\"none\" stroke=\"black\" d=\"M670.44,-72.5C677.98,-72.5 686.54,-72.5 695.32,-72.5\"/>\n",
       "<polygon fill=\"black\" stroke=\"black\" points=\"695.08,-76 705.08,-72.5 695.08,-69 695.08,-76\"/>\n",
       "</g>\n",
       "<!-- 2697851138640 -->\n",
       "<g id=\"node3\" class=\"node\">\n",
       "<title>2697851138640</title>\n",
       "<polygon fill=\"none\" stroke=\"black\" points=\"3,-83.5 3,-119.5 107,-119.5 107,-83.5 3,-83.5\"/>\n",
       "<text text-anchor=\"middle\" x=\"14.5\" y=\"-97.8\" font-family=\"Times New Roman,serif\" font-size=\"14.00\">a</text>\n",
       "<polyline fill=\"none\" stroke=\"black\" points=\"26,-83.5 26,-119.5\"/>\n",
       "<text text-anchor=\"middle\" x=\"66.5\" y=\"-97.8\" font-family=\"Times New Roman,serif\" font-size=\"14.00\">data 2.0000</text>\n",
       "</g>\n",
       "<!-- 2697851140224* -->\n",
       "<g id=\"node5\" class=\"node\">\n",
       "<title>2697851140224*</title>\n",
       "<ellipse fill=\"none\" stroke=\"black\" cx=\"173\" cy=\"-73.5\" rx=\"27\" ry=\"18\"/>\n",
       "<text text-anchor=\"middle\" x=\"173\" y=\"-69.8\" font-family=\"Times New Roman,serif\" font-size=\"14.00\">*</text>\n",
       "</g>\n",
       "<!-- 2697851138640&#45;&gt;2697851140224* -->\n",
       "<g id=\"edge7\" class=\"edge\">\n",
       "<title>2697851138640&#45;&gt;2697851140224*</title>\n",
       "<path fill=\"none\" stroke=\"black\" d=\"M106.88,-89.22C116.94,-86.79 127.3,-84.29 136.7,-82.02\"/>\n",
       "<polygon fill=\"black\" stroke=\"black\" points=\"137.34,-85.23 146.24,-79.48 135.7,-78.42 137.34,-85.23\"/>\n",
       "</g>\n",
       "<!-- 2697851140224 -->\n",
       "<g id=\"node4\" class=\"node\">\n",
       "<title>2697851140224</title>\n",
       "<polygon fill=\"none\" stroke=\"black\" points=\"237,-55.5 237,-91.5 346,-91.5 346,-55.5 237,-55.5\"/>\n",
       "<text text-anchor=\"middle\" x=\"248.5\" y=\"-69.8\" font-family=\"Times New Roman,serif\" font-size=\"14.00\">e</text>\n",
       "<polyline fill=\"none\" stroke=\"black\" points=\"260,-55.5 260,-91.5\"/>\n",
       "<text text-anchor=\"middle\" x=\"303\" y=\"-69.8\" font-family=\"Times New Roman,serif\" font-size=\"14.00\">data &#45;6.0000</text>\n",
       "</g>\n",
       "<!-- 2697851139840+ -->\n",
       "<g id=\"node9\" class=\"node\">\n",
       "<title>2697851139840+</title>\n",
       "<ellipse fill=\"none\" stroke=\"black\" cx=\"410\" cy=\"-45.5\" rx=\"27\" ry=\"18\"/>\n",
       "<text text-anchor=\"middle\" x=\"410\" y=\"-41.8\" font-family=\"Times New Roman,serif\" font-size=\"14.00\">+</text>\n",
       "</g>\n",
       "<!-- 2697851140224&#45;&gt;2697851139840+ -->\n",
       "<g id=\"edge6\" class=\"edge\">\n",
       "<title>2697851140224&#45;&gt;2697851139840+</title>\n",
       "<path fill=\"none\" stroke=\"black\" d=\"M345.98,-60.65C355.31,-58.4 364.81,-56.12 373.51,-54.03\"/>\n",
       "<polygon fill=\"black\" stroke=\"black\" points=\"374.12,-57.24 383.03,-51.5 372.49,-50.44 374.12,-57.24\"/>\n",
       "</g>\n",
       "<!-- 2697851140224*&#45;&gt;2697851140224 -->\n",
       "<g id=\"edge2\" class=\"edge\">\n",
       "<title>2697851140224*&#45;&gt;2697851140224</title>\n",
       "<path fill=\"none\" stroke=\"black\" d=\"M200.44,-73.5C208.25,-73.5 217.17,-73.5 226.29,-73.5\"/>\n",
       "<polygon fill=\"black\" stroke=\"black\" points=\"226.03,-77 236.03,-73.5 226.03,-70 226.03,-77\"/>\n",
       "</g>\n",
       "<!-- 2697851140800 -->\n",
       "<g id=\"node6\" class=\"node\">\n",
       "<title>2697851140800</title>\n",
       "<polygon fill=\"none\" stroke=\"black\" points=\"0,-28.5 0,-64.5 110,-64.5 110,-28.5 0,-28.5\"/>\n",
       "<text text-anchor=\"middle\" x=\"12\" y=\"-42.8\" font-family=\"Times New Roman,serif\" font-size=\"14.00\">b</text>\n",
       "<polyline fill=\"none\" stroke=\"black\" points=\"24,-28.5 24,-64.5\"/>\n",
       "<text text-anchor=\"middle\" x=\"67\" y=\"-42.8\" font-family=\"Times New Roman,serif\" font-size=\"14.00\">data &#45;3.0000</text>\n",
       "</g>\n",
       "<!-- 2697851140800&#45;&gt;2697851140224* -->\n",
       "<g id=\"edge8\" class=\"edge\">\n",
       "<title>2697851140800&#45;&gt;2697851140224*</title>\n",
       "<path fill=\"none\" stroke=\"black\" d=\"M109.92,-59.05C118.98,-61.16 128.16,-63.3 136.59,-65.26\"/>\n",
       "<polygon fill=\"black\" stroke=\"black\" points=\"135.63,-68.86 146.16,-67.72 137.21,-62.04 135.63,-68.86\"/>\n",
       "</g>\n",
       "<!-- 2697851090112 -->\n",
       "<g id=\"node7\" class=\"node\">\n",
       "<title>2697851090112</title>\n",
       "<polygon fill=\"none\" stroke=\"black\" points=\"473,-82.5 473,-118.5 580,-118.5 580,-82.5 473,-82.5\"/>\n",
       "<text text-anchor=\"middle\" x=\"483.5\" y=\"-96.8\" font-family=\"Times New Roman,serif\" font-size=\"14.00\">f</text>\n",
       "<polyline fill=\"none\" stroke=\"black\" points=\"494,-82.5 494,-118.5\"/>\n",
       "<text text-anchor=\"middle\" x=\"537\" y=\"-96.8\" font-family=\"Times New Roman,serif\" font-size=\"14.00\">data &#45;2.0000</text>\n",
       "</g>\n",
       "<!-- 2697851090112&#45;&gt;2697851140608* -->\n",
       "<g id=\"edge9\" class=\"edge\">\n",
       "<title>2697851090112&#45;&gt;2697851140608*</title>\n",
       "<path fill=\"none\" stroke=\"black\" d=\"M579.72,-87.73C588.83,-85.5 598.1,-83.23 606.62,-81.15\"/>\n",
       "<polygon fill=\"black\" stroke=\"black\" points=\"607.41,-84.32 616.3,-78.54 605.75,-77.52 607.41,-84.32\"/>\n",
       "</g>\n",
       "<!-- 2697851139840 -->\n",
       "<g id=\"node8\" class=\"node\">\n",
       "<title>2697851139840</title>\n",
       "<polygon fill=\"none\" stroke=\"black\" points=\"474,-27.5 474,-63.5 579,-63.5 579,-27.5 474,-27.5\"/>\n",
       "<text text-anchor=\"middle\" x=\"486\" y=\"-41.8\" font-family=\"Times New Roman,serif\" font-size=\"14.00\">d</text>\n",
       "<polyline fill=\"none\" stroke=\"black\" points=\"498,-27.5 498,-63.5\"/>\n",
       "<text text-anchor=\"middle\" x=\"538.5\" y=\"-41.8\" font-family=\"Times New Roman,serif\" font-size=\"14.00\">data 4.0000</text>\n",
       "</g>\n",
       "<!-- 2697851139840&#45;&gt;2697851140608* -->\n",
       "<g id=\"edge5\" class=\"edge\">\n",
       "<title>2697851139840&#45;&gt;2697851140608*</title>\n",
       "<path fill=\"none\" stroke=\"black\" d=\"M578.72,-57.58C588.1,-59.79 597.7,-62.05 606.49,-64.13\"/>\n",
       "<polygon fill=\"black\" stroke=\"black\" points=\"605.58,-67.74 616.12,-66.63 607.19,-60.93 605.58,-67.74\"/>\n",
       "</g>\n",
       "<!-- 2697851139840+&#45;&gt;2697851139840 -->\n",
       "<g id=\"edge3\" class=\"edge\">\n",
       "<title>2697851139840+&#45;&gt;2697851139840</title>\n",
       "<path fill=\"none\" stroke=\"black\" d=\"M437.27,-45.5C445.15,-45.5 454.14,-45.5 463.31,-45.5\"/>\n",
       "<polygon fill=\"black\" stroke=\"black\" points=\"463.09,-49 473.09,-45.5 463.09,-42 463.09,-49\"/>\n",
       "</g>\n",
       "<!-- 2697851138832 -->\n",
       "<g id=\"node10\" class=\"node\">\n",
       "<title>2697851138832</title>\n",
       "<polygon fill=\"none\" stroke=\"black\" points=\"236,-0.5 236,-36.5 347,-36.5 347,-0.5 236,-0.5\"/>\n",
       "<text text-anchor=\"middle\" x=\"247.5\" y=\"-14.8\" font-family=\"Times New Roman,serif\" font-size=\"14.00\">c</text>\n",
       "<polyline fill=\"none\" stroke=\"black\" points=\"259,-0.5 259,-36.5\"/>\n",
       "<text text-anchor=\"middle\" x=\"303\" y=\"-14.8\" font-family=\"Times New Roman,serif\" font-size=\"14.00\">data 10.0000</text>\n",
       "</g>\n",
       "<!-- 2697851138832&#45;&gt;2697851139840+ -->\n",
       "<g id=\"edge4\" class=\"edge\">\n",
       "<title>2697851138832&#45;&gt;2697851139840+</title>\n",
       "<path fill=\"none\" stroke=\"black\" d=\"M347,-31.13C355.97,-33.21 365.07,-35.32 373.43,-37.26\"/>\n",
       "<polygon fill=\"black\" stroke=\"black\" points=\"372.39,-40.84 382.92,-39.69 373.97,-34.02 372.39,-40.84\"/>\n",
       "</g>\n",
       "</g>\n",
       "</svg>\n"
      ],
      "text/plain": [
       "<graphviz.graphs.Digraph at 0x27424633a00>"
      ]
     },
     "execution_count": 55,
     "metadata": {},
     "output_type": "execute_result"
    }
   ],
   "source": [
    "draw_dot(L)"
   ]
  },
  {
   "cell_type": "code",
   "execution_count": null,
   "metadata": {},
   "outputs": [],
   "source": []
  }
 ],
 "metadata": {
  "kernelspec": {
   "display_name": "pytorch",
   "language": "python",
   "name": "python3"
  },
  "language_info": {
   "codemirror_mode": {
    "name": "ipython",
    "version": 3
   },
   "file_extension": ".py",
   "mimetype": "text/x-python",
   "name": "python",
   "nbconvert_exporter": "python",
   "pygments_lexer": "ipython3",
   "version": "3.9.2"
  },
  "orig_nbformat": 4
 },
 "nbformat": 4,
 "nbformat_minor": 2
}
